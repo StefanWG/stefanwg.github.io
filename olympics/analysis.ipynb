{
 "cells": [
  {
   "cell_type": "code",
   "execution_count": 32,
   "metadata": {},
   "outputs": [],
   "source": [
    "import pandas as pd\n",
    "import numpy as np\n",
    "import warnings\n",
    "import matplotlib.pyplot as plt\n",
    "import seaborn as sns\n",
    "import matplotlib\n",
    "import scipy\n",
    "\n",
    "# Silence Warnings\n",
    "warnings.filterwarnings(\"ignore\")\n"
   ]
  },
  {
   "cell_type": "code",
   "execution_count": 73,
   "metadata": {},
   "outputs": [],
   "source": [
    "df = pd.read_csv('participants.csv', header=None)\n",
    "df.columns = [\"country\", \"athletes\"]\n",
    "# Strip whitespace from country names\n",
    "df['country'] = df['country'].str.strip()\n",
    "\n",
    "country_names_map = {\n",
    "    \"Brunei Darussalam\": \"Brunei\",\n",
    "    \"Cabo Verde\":\"Cape Verde\",\n",
    "    \"Chinese Taipei\": \"Taiwan\",\n",
    "    \"Congo\": \"Republic of the Congo\",\n",
    "    \"Czechia\": \"Czech Republic\",\n",
    "    \"Cote d'Ivoire\": \"Ivory Coast\",\n",
    "    \"Democratic People's Republic of Korea\": \"North Korea\",\n",
    "    \"Democratic Republic of Timor-Leste\": \"East Timor\",\n",
    "    \"Federated States of Micronesia\": \"Micronesia\",\n",
    "    \"Great Britain\": \"United Kingdom\",\n",
    "    \"Islamic Republic of Iran\": \"Iran\",\n",
    "    \"Lao People's Democratic Republic\": \"Laos\",\n",
    "    \"People's Republic of China\": \"China\",\n",
    "    \"Republic of Korea\": \"South Korea\",\n",
    "    \"Republic of Moldova\": \"Moldova\",\n",
    "    \"Sao Tome and Principe\": \"São Tomé and Príncipe\",\n",
    "    \"St Vincent and the Grenadines\": \"Saint Vincent and the Grenadines\",\n",
    "    \"Syrian Arab Republic\": \"Syria\",\n",
    "    \"United Republic of Tanzania\": \"Tanzania\",\n",
    "    \"United States of America\": \"United States\",\n",
    "    \"US Virgin Islands\": \"U.S. Virgin Islands\",\n",
    "    \"France*\":\"France\"\n",
    "}\n",
    "\n",
    "# Replace country names with the correct ones\n",
    "df['country'] = df['country'].replace(country_names_map)"
   ]
  },
  {
   "cell_type": "code",
   "execution_count": 65,
   "metadata": {},
   "outputs": [],
   "source": [
    "url = \"https://en.wikipedia.org/wiki/List_of_countries_and_dependencies_by_population\"\n",
    "tables = pd.read_html(url)\n",
    "population = tables[0][[\"Location\", \"Population\"]]"
   ]
  },
  {
   "cell_type": "code",
   "execution_count": 66,
   "metadata": {},
   "outputs": [],
   "source": [
    "url = \"https://en.wikipedia.org/wiki/2024_Summer_Olympics_medal_table\"\n",
    "tables = pd.read_html(url)\n",
    "medals = tables[4]\n",
    "medals['NOC'] = medals['NOC'].replace(country_names_map)\n",
    "medals.loc[medals['NOC'] == \"France*\", \"NOC\"]  = \"France\""
   ]
  },
  {
   "cell_type": "code",
   "execution_count": 74,
   "metadata": {},
   "outputs": [],
   "source": [
    "population[\"Location\"] = [t.split(\"(\")[0].strip() for t in population[\"Location\"]]\n",
    "\n",
    "merged = df.merge(population, left_on=\"country\", right_on=\"Location\")\n",
    "\n",
    "merged = merged.merge(medals, left_on=\"country\", right_on=\"NOC\", how=\"left\")\n",
    "merged.fillna(0, inplace=True)\n",
    "merged.drop(columns=[\"Location\", \"NOC\", \"Rank\"], inplace=True)\n",
    "\n",
    "merged[\"athletes_per_million\"] = merged[\"athletes\"] / merged[\"Population\"] * 1e6\n",
    "merged[\"medals_per_athlete\"] = merged[\"Total\"] / merged[\"athletes\"]\n",
    "\n",
    "merged.to_csv(\"medals.csv\", index=False)\n"
   ]
  },
  {
   "cell_type": "code",
   "execution_count": 104,
   "metadata": {},
   "outputs": [],
   "source": [
    "vals = np.concatenate([np.arange(1, 1.5, 0.01), np.arange(1.5, 10, 0.1), np.array([10, 15, 20, 25, 30, 40, 50, 60, 75, 100])]) "
   ]
  },
  {
   "cell_type": "code",
   "execution_count": 105,
   "metadata": {},
   "outputs": [],
   "source": [
    "d = merged.loc[merged[\"Total\"]>0]\n",
    "\n",
    "country_arrays = {k:np.zeros((len(vals),len(vals))) for k in d[\"country\"]}\n",
    "for x in range(0, len(vals)):\n",
    "    for y in range(0,len(vals)):\n",
    "        bronze = 1 \n",
    "        silver = bronze * vals[x]\n",
    "        gold = silver * vals[y]\n",
    "        d = merged.loc[merged[\"Total\"]>0]\n",
    "        d[\"points\"] = d[\"Bronze\"] * bronze + d[\"Silver\"] * silver + d[\"Gold\"] * gold\n",
    "        d[\"rank\"] = d[\"points\"].rank(method=\"min\", ascending=False)\n",
    "        for i, row in d.iterrows():\n",
    "            country_arrays[row[\"country\"]][y-1, x-1] = row[\"rank\"]"
   ]
  },
  {
   "cell_type": "code",
   "execution_count": 77,
   "metadata": {},
   "outputs": [],
   "source": [
    "for country in country_arrays.keys():\n",
    "    df = pd.DataFrame(country_arrays[country])\n",
    "    df.to_csv(f\"data/{country}.csv\", index=False, header=None)\n",
    "\n",
    "# Save csv of list of countries\n",
    "pd.DataFrame([c for c in country_arrays.keys()]).to_csv(\"data/countries.csv\", index=False, header=None)\n"
   ]
  },
  {
   "cell_type": "code",
   "execution_count": 121,
   "metadata": {},
   "outputs": [],
   "source": [
    "for country in country_arrays.keys():\n",
    "    arr = country_arrays[country][:-1].T[:-1].T\n",
    "    ax = sns.heatmap(arr, annot=False, fmt=\".0f\", cmap=\"viridis\", cbar=False,\n",
    "        norm=matplotlib.colors.LogNorm( vmin=1, vmax=len(country_arrays)-20))\n",
    "    ax.invert_yaxis()\n",
    "    plt.tick_params(top=False, labeltop=False, bottom=False, labelbottom=False, left=False, labelleft=False)\n",
    "    plt.savefig(f\"plots/{country}.png\", bbox_inches='tight', pad_inches=0)\n",
    "    plt.close()\n",
    "    \n"
   ]
  },
  {
   "cell_type": "code",
   "execution_count": null,
   "metadata": {},
   "outputs": [],
   "source": []
  }
 ],
 "metadata": {
  "kernelspec": {
   "display_name": "base",
   "language": "python",
   "name": "python3"
  },
  "language_info": {
   "codemirror_mode": {
    "name": "ipython",
    "version": 3
   },
   "file_extension": ".py",
   "mimetype": "text/x-python",
   "name": "python",
   "nbconvert_exporter": "python",
   "pygments_lexer": "ipython3",
   "version": "3.11.5"
  }
 },
 "nbformat": 4,
 "nbformat_minor": 2
}
